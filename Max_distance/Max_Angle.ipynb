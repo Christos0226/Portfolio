{
 "cells": [
  {
   "attachments": {
    "Barrel.webp": {
     "image/webp": "[encoded data removed]"
    }
   },
   "cell_type": "markdown",
   "id": "b7b34b7f",
   "metadata": {},
   "source": [
    "# Narrative\n",
    "\n",
    "The purpose of this experiment is to figure out what angle gives the maximum range for a baseball using only backspin. There will be factors that will change the range of the baseball significantly. The possible factors are: The speed the ball is going, the angular speed the ball has, the density of air, and countless others. The conditions that matter the most for this project are how fast the ball is going, the angle the ball is hit, and spinrate the ball has. Most importantly is the angle the ball is getting hit. The magnus effect describes the force on a rotating ball by the air, due to the spin of the ball and its motion through the air. A ball with backspin gets lift, a ball with topspin dives, a ball with side spin curves left or right. The basic equation of the magnus effect is: $$\\vec{F}_{magnus} = \\alpha \\vec{\\omega} \\times \\vec{v}$$. The x in the equation reperesents the cross product of the two values. \n",
    "\n",
    "The full equation incorparates the spin rate S, the coeficcient of lift Cl, the cross sectional area A, r the radius,  and the variable $\\rho$ (rho).\n",
    "\n",
    "The full equation looks likee this:\n",
    "\n",
    "$$\\vec{F}_{magnus} = \\frac{1}{2}C_L \\frac{\\rho A r}{S} \\vec{\\omega} \\times \\vec{v}$$\n",
    "\n",
    "## The sweet spot\n",
    "\n",
    "When hitting a baseball there is an angle range that almost guarentees farther ball distance. According from source stratcast 101 the swweet spot for hitting is around 15- 35 degrees. They say that if a batter hits the ball inbetween those angles (also known as the barrel zone) then the batter will have a higher hit and distance percentage. ![Barrel.webp](attachment:Barrel.webp)\n",
    "\n",
    "\n",
    "## Implementing the Code\n",
    "\n",
    "By using the momentum principle which is $fnet = \\frac{\\Delta P}{\\Delta t}$, the magnus effect, and the sweet spot we can find both the phyiscs and the threshold that are ball has to be. The code is going to be broken into two parts. The first part being a hardcoded max distance and angle. I did this so that I can validate the custom ball speed and spinrate. The second part is going to be user inputted so that any value for speed and spinrate will return the best angle. This also gets help from the first part of the code as a way to validate the user inputed one. \n"
   ]
  },
  {
   "cell_type": "code",
   "execution_count": 17,
   "id": "a70ca5ef",
   "metadata": {},
   "outputs": [],
   "source": [
    "import ode #ode.py should be in the same folder as your notebook\n",
    "import numpy as np\n",
    "import matplotlib.pyplot as plt"
   ]
  },
  {
   "cell_type": "markdown",
   "id": "cd9d8e31",
   "metadata": {},
   "source": [
    "# Initial Conditions\n",
    "\n",
    "This code segment sets up the initial conditions. The variable thetadeg will be changing as we find the best value for the angle. The intial positions will later be returned when the function magnus gets called."
   ]
  },
  {
   "cell_type": "code",
   "execution_count": 31,
   "id": "0d907245",
   "metadata": {},
   "outputs": [],
   "source": [
    "# data for home run\n",
    "vmag0mph = 111.1 #mph\n",
    "thetadeg = 25 #deg\n",
    "spinrate = 1838 #rpm\n",
    "\n",
    "# convert units and create initial conditions\n",
    "vmag0 = vmag0mph*0.44704 #convert mph to m/s\n",
    "theta = thetadeg*np.pi/180 #convert deg to rad\n",
    "\n",
    "# initial position and velocity components\n",
    "x = 0\n",
    "y = 0\n",
    "z = 0\n",
    "vx = vmag0*np.cos(theta)\n",
    "vy = vmag0*np.sin(theta)\n",
    "vz = 0\n",
    "\n",
    "# initial angular speed and velocity\n",
    "omegamag = spinrate * 2*np.pi / 60 #convert to rad/s\n",
    "omegax = 0\n",
    "omegay = 0\n",
    "omegaz = omegamag"
   ]
  },
  {
   "cell_type": "markdown",
   "id": "0a4f7521",
   "metadata": {},
   "source": [
    "# Constants"
   ]
  },
  {
   "cell_type": "code",
   "execution_count": 25,
   "id": "4f76fb6c",
   "metadata": {},
   "outputs": [],
   "source": [
    "#parameters\n",
    "g = 9.8 #N/kg\n",
    "rho = 1.2 #kg/m^3\n",
    "mu = 1.8e-5 #kg/m/s\n",
    "r = 74e-3/2 #74 mm diameter, 9.25\" in circumference\n",
    "A = np.pi*r**2 #cross-sectional area\n",
    "Cd = 0.5 #actually depends on speed\n",
    "m = 0.145 #kg\n",
    "b2 = 1/2*Cd*rho*A #will change as Cd changes\n",
    "\n",
    "S = 0.01 #will change as omega and v change\n",
    "CL = 0 #will change with S\n",
    "alpha = 1/2*CL*rho*A*r/S\n"
   ]
  },
  {
   "cell_type": "markdown",
   "id": "f086d418",
   "metadata": {},
   "source": [
    "# Setting up Forces\n",
    "\n",
    "This function get the data from the data from the user and the asigns each index of the data list to the returned values x,y,z,vx,vy,vz. Using these valus I can get the derivativs for the velocity. From there I calculate the drag force, gravity, and the magnus effect so that I can calculate fnet for the ball. "
   ]
  },
  {
   "cell_type": "code",
   "execution_count": 26,
   "id": "7c49b014",
   "metadata": {},
   "outputs": [],
   "source": [
    "def magnus(d, t):\n",
    "    \"\"\" Calculate and return the derivative of each quantity in an array d at the time t.\n",
    "    \n",
    "    Keyword arguments:\n",
    "    t -- time at the beginning of the time step\n",
    "    d -- an array of variables at time t\n",
    "    \"\"\"\n",
    "    \n",
    "    x = d[0]\n",
    "    y = d[1]\n",
    "    z = d[2]\n",
    "    vx = d[3]\n",
    "    vy = d[4]\n",
    "    vz = d[5]\n",
    "    \n",
    "    dxdt = vx\n",
    "    dydt = vy\n",
    "    dzdt = vz\n",
    "    \n",
    "    v = np.sqrt(vx**2 + vy**2 + vz**2)\n",
    "    \n",
    "    #drag\n",
    "    a = 0.36\n",
    "    b = 0.14\n",
    "    c = 0.27\n",
    "    vc = 34\n",
    "    chi = (v-vc)/4\n",
    "    \n",
    "    if chi < 0:\n",
    "        Cd = a + b/(1+np.exp(chi)) - c*np.exp(-chi**2)\n",
    "    else:\n",
    "        Cd = a + b/(1+np.exp(chi)) - c*np.exp(-chi**2/4)\n",
    "    \n",
    "    b2 = 1/2*Cd*rho*A\n",
    "    Fdragx = -b2*v**2*vx/v\n",
    "    Fdragy = -b2*v**2*vy/v\n",
    "    Fdragz = -b2*v**2*vz/v\n",
    "    \n",
    "    #magnus\n",
    "    S = r*omegamag/v\n",
    "    CL = 0.62*S**0.7\n",
    "    alpha = 1/2*CL*rho*A*r/S\n",
    "    Fmagnusx = alpha*(omegay*vz - omegaz*vy)\n",
    "    Fmagnusy = alpha*(omegaz*vx - omegax*vz)\n",
    "    Fmagnusz = alpha*(omegax*vy - omegay*vx)\n",
    "    \n",
    "    #grav\n",
    "    Fgravy = -m*g\n",
    "    \n",
    "    #Fnet\n",
    "    Fnetx = Fdragx + Fmagnusx\n",
    "    Fnety = Fdragy + Fmagnusy + Fgravy\n",
    "    Fnetz = Fdragz + Fmagnusz\n",
    "    \n",
    "    #derivative of velocity\n",
    "    dvxdt = Fnetx/m\n",
    "    dvydt = Fnety/m\n",
    "    dvzdt = Fnetz/m\n",
    "    \n",
    "    derivs = np.array([dxdt, dydt, dzdt, dvxdt, dvydt, dvzdt])\n",
    "    \n",
    "    return derivs"
   ]
  },
  {
   "cell_type": "markdown",
   "id": "5ae80eaa",
   "metadata": {},
   "source": [
    "# largest value "
   ]
  },
  {
   "cell_type": "code",
   "execution_count": 29,
   "id": "e2bca8c3",
   "metadata": {},
   "outputs": [],
   "source": [
    "\n",
    "t = 0\n",
    "h = 0.01\n",
    "\n",
    "# array for instantaneous position and velocity data\n",
    "data = np.array([x, y, z, vx, vy, vz])\n",
    "\n",
    "\n",
    "# lists for storing data to graph\n",
    "tlist = []\n",
    "xlist = []\n",
    "ylist = []\n",
    "zlist = []\n",
    "\n",
    "# store initial values\n",
    "tlist.append(t)\n",
    "xlist.append(x)\n",
    "ylist.append(y)\n",
    "zlist.append(z)\n",
    "\n",
    "while y >= 0:\n",
    "    \n",
    "    data = ode.RK4(magnus, data, t, h)\n",
    "    t = t + h\n",
    "    \n",
    "    x = data[0]\n",
    "    y = data[1]\n",
    "    z = data[2]\n",
    "    tlist.append(t)\n",
    "    xlist.append(x)\n",
    "    ylist.append(y)\n",
    "    zlist.append(z)\n",
    "    \n"
   ]
  },
  {
   "cell_type": "code",
   "execution_count": 30,
   "id": "4aad5040",
   "metadata": {},
   "outputs": [
    {
     "name": "stdout",
     "output_type": "stream",
     "text": [
      "max x in m =  142.85872365782484\n",
      "max x in ft =  468.69661492553803\n"
     ]
    }
   ],
   "source": [
    "xmax = xlist[-1]\n",
    "print(\"max x in m = \", xmax)\n",
    "\n",
    "xmax_ft = xmax*3.28084\n",
    "print(\"max x in ft = \", xmax_ft)\n",
    "\n"
   ]
  },
  {
   "cell_type": "markdown",
   "id": "f3e2f390",
   "metadata": {},
   "source": [
    "# User inputted info\n",
    "\n",
    "In this code segment I will loop through the parameters of the sweet spot and then continue creating and clearing the lists: t,x,y,and z. The reason why these will be cleared is that the previous data would be interfering with the new calculations. If the distance traveled is greater than the previous distance, then the angle will be equaled to the next angle with the larger distance. If the distance is greater th"
   ]
  },
  {
   "cell_type": "code",
   "execution_count": 34,
   "id": "83a7a421",
   "metadata": {},
   "outputs": [
    {
     "data": {
      "image/png": "[encoded data removed]",
      "text/plain": [
       "<Figure size 576x432 with 1 Axes>"
      ]
     },
     "metadata": {
      "needs_background": "light"
     },
     "output_type": "display_data"
    },
    {
     "name": "stdout",
     "output_type": "stream",
     "text": [
      "max x in m =  152.1215897175049\n",
      "max x in ft =  499.08659640877875\n",
      "best angle =  16\n"
     ]
    }
   ],
   "source": [
    "angle = 15\n",
    "\n",
    "data = np.array([x, y, z, vx, vy, vz])\n",
    "placeholder = 0\n",
    "dist = 0\n",
    "\n",
    "for i in range(16,36):\n",
    "    tlist = []\n",
    "    xlist = []\n",
    "    ylist = []\n",
    "    zlist = []\n",
    "    thetadeg = i\n",
    "\n",
    "# store initial values\n",
    "    tlist.append(t)\n",
    "    xlist.append(x)\n",
    "    ylist.append(y)\n",
    "    zlist.append(z)\n",
    "    \n",
    "    while y >= 0:\n",
    "    \n",
    "        data = ode.RK4(magnus, data, t, h)\n",
    "        t = t + h\n",
    "    \n",
    "        x = data[0]\n",
    "        y = data[1]\n",
    "        z = data[2]\n",
    "        tlist.append(t)\n",
    "        xlist.append(x)\n",
    "        ylist.append(y)\n",
    "        zlist.append(z)\n",
    "    \n",
    "    if dist < xlist[-1]:\n",
    "        dist = xlist[-1]\n",
    "        placeholder = i\n",
    "        tlist.clear()\n",
    "        xlist.clear()\n",
    "        ylist.clear()\n",
    "        zlist.clear()\n",
    "    elif dist > xlist[-1]:\n",
    "        break\n",
    "        \n",
    "\n",
    "plt.figure(figsize = (8,6))\n",
    "plt.title(\"Trajectory of a Baseball with Variable Drag and Magnus Force\")\n",
    "plt.xlabel(\"x (m)\")\n",
    "plt.ylabel(\"y (m)\")\n",
    "plt.plot(xlist, ylist)\n",
    "plt.show()\n",
    "        \n",
    "    \n",
    "xma = xlist[-1]\n",
    "print(\"max x in m = \", xmax)\n",
    "\n",
    "xmax_ft = xmax*3.28084\n",
    "print(\"max x in ft = \", xmax_ft)\n",
    "\n",
    "print(\"best angle = \", placeholder)\n",
    "        \n",
    "        \n",
    "    \n",
    "    \n",
    "    \n",
    "    "
   ]
  },
  {
   "cell_type": "markdown",
   "id": "4cfc6846",
   "metadata": {},
   "source": [
    "# Sources\n",
    "\n",
    "Information of forces like drag, magnus effect, and the momentum principle were given to me by Dr. Titus.\n",
    "\n",
    "Information on the sweet spot and images used in this project are from the website: [click this link](https://www.fantraxhq.com/statcast-101-barrel-rates-launch-angle/)"
   ]
  },
  {
   "cell_type": "code",
   "execution_count": null,
   "id": "4666e3b0",
   "metadata": {},
   "outputs": [],
   "source": []
  }
 ],
 "metadata": {
  "kernelspec": {
   "display_name": "Python 3 (ipykernel)",
   "language": "python",
   "name": "python3"
  },
  "language_info": {
   "codemirror_mode": {
    "name": "ipython",
    "version": 3
   },
   "file_extension": ".py",
   "mimetype": "text/x-python",
   "name": "python",
   "nbconvert_exporter": "python",
   "pygments_lexer": "ipython3",
   "version": "3.9.7"
  }
 },
 "nbformat": 4,
 "nbformat_minor": 5
}
