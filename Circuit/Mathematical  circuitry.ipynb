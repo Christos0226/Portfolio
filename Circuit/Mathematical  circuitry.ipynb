{
 "cells": [
  {
   "attachments": {
    "Circuit%20diagram.png": {
     "image/png": "[encoded data removed]"
    }
   },
   "cell_type": "markdown",
   "id": "bec1c675",
   "metadata": {},
   "source": [
    "# Narrative\n",
    "\n",
    "In this project I will be using Modified Node Analysis to find the currents at a set of n nodes in a passive circuit. Modified Node Analysis allows uses the processing power of a computer to solve algorithms that find the current through each node and voltage source. Note that for this project I will be only using regular voltage sources and not independent voltage sources. To find the currents through each node using MNA I have to use the equation A * x = z. A is a matrix with dimension m+n, m+n(m being the number of voltage sources and n being the numbe of nodes). X is a matrix(m+n,1) that holds the unknown values of each current through the nodes and voltages in the circuit. Z is also a matrix(m+n,1) that holds the independent voltagtes and current sources. The results that I am looking for in the project will be stored in the x matrix. So in this case the equation that I am going to use is $ A^{-1} * z = x$. \n",
    "\n",
    "## Creating the circuit\n",
    "\n",
    "Before finding out the currents through the nodes and voltage sources I first need to define my system(the circuit that will be used). The way that was the easiest to get the information of the circuit is to create a string that contains the information of all passive components(Resistors) and all voltage sources(batteries). Each line in the string will have either resistor or voltage source, followed by the node connected to the positive side, a node connected to the negative side, and its values. The values will have different descriptors so Resistors will have a value in ohms and voltage sources will have volts. From there the string is split by the end of each line so that information betweem resistors and voltage sources wont intersect. Then I stored all of the data into dictionaries. the reason why dictionaries are being used is so that I can store multiple sets of information for a given node, resitor, and voltage source per index. The main reason as to why the string did not have a section for nodes was because all the nodes in the circuit have to be connected to either a passive element or a voltage source. Thus by getting the positive and negative nodes from each resistor and voltage source, I can the categorize the nodes to a dictionary containing lists of the positve and negative nodes. There also is a zero node in the circuit. That node will always be ground since a circuit needs to be grounded in order to work. the circuit that I will be working on for this project is:![Circuit%20diagram.png](attachment:Circuit%20diagram.png)\n",
    "\n"
   ]
  },
  {
   "cell_type": "code",
   "execution_count": 1,
   "id": "766d6b0f",
   "metadata": {},
   "outputs": [],
   "source": [
    "import numpy as np\n",
    "import numpy.linalg as la #used for linear algebra"
   ]
  },
  {
   "cell_type": "code",
   "execution_count": 2,
   "id": "bdb860f8",
   "metadata": {},
   "outputs": [
    {
     "name": "stdout",
     "output_type": "stream",
     "text": [
      "circuit:  ['Vs1 1 2 32', 'Vs2 0 3 20', 'R1 0 1 2', 'R2 2 3 4', 'R3 0 2 8']\n",
      "Number of nodes, n =  3\n",
      "Number of V sources, m =  2\n",
      "V sources:  [{'name': 's1', 'neg': 1, 'pos': 2, 'val': 32.0}, {'name': 's2', 'neg': 0, 'pos': 3, 'val': 20.0}]\n",
      "I sources:  []\n",
      "Resistors:  [{'name': '1', 'neg': 0, 'pos': 1, 'val': 2.0}, {'name': '2', 'neg': 2, 'pos': 3, 'val': 4.0}, {'name': '3', 'neg': 0, 'pos': 2, 'val': 8.0}]\n",
      "Neg nodes: [1, 0, 2]\n",
      "Pos nodes: [2, 3, 1]\n"
     ]
    }
   ],
   "source": [
    "# specify the circuit using the same format as a SPICE file\n",
    "\n",
    "# spice = \"\"\"Vs1 0 1 32\n",
    "# R1 1 2 2\n",
    "# R2 2 3 4\n",
    "# R3 0 2 8\n",
    "# Vs2 0 3 20\"\"\"\n",
    "\n",
    "\n",
    "# Voltage Divider # name negnode posnode value\n",
    "# spice = \"\"\"Vs1 0 1 10\n",
    "# R1 1 2 2\n",
    "# R2 2 0 3\"\"\"\n",
    "\n",
    "# Current Divider\n",
    "# spice = \"\"\"Is1 0 1 3\n",
    "# R1 0 1 50\n",
    "# R2 0 1 100\"\"\"\n",
    "\n",
    "# Example 2\n",
    "# spice = \"\"\"Vs1 1 2 32\n",
    "# Vs2 0 3 20\n",
    "# R1 0 1 2\n",
    "# R2 0 2 8\n",
    "# R3 2 3 4\"\"\"\n",
    "\n",
    "# Example 3\n",
    "# spice = \"\"\"Is1 0 1 0.01\n",
    "# R1 0 1 50\n",
    "# R2 1 2 100\n",
    "# R3 0 2 200\n",
    "# Vs1 2 1 5\"\"\"\n",
    "\n",
    "# case 1\n",
    "spice = \"\"\"Vs1 1 2 32\n",
    "Vs2 0 3 20\n",
    "R1 0 1 2\n",
    "R2 2 3 4\n",
    "R3 0 2 8\"\"\" \n",
    "\n",
    "# case 2\n",
    "\n",
    "# circuit is a list with each item being a line in the spice string\n",
    "circuit = spice.split('\\n')\n",
    "print(\"circuit: \", circuit)\n",
    "\n",
    "# dictionary of nodes\n",
    "nodes = {\n",
    "    \"neg\": [],\n",
    "    \"pos\": []\n",
    "}\n",
    "\n",
    "# lists of circuit elements\n",
    "Vsources = []\n",
    "Rs = []\n",
    "Isources = []\n",
    "\n",
    "# read each line in the circuit and populate the nodes dictionary and lists of circuit elements\n",
    "for line in circuit:\n",
    "    element, neg, pos, val = line.split(' ')\n",
    "    neg = int(neg)\n",
    "    pos = int(pos)\n",
    "    val = float(val)\n",
    "    name = element[1:]\n",
    "    if neg not in nodes['neg']:\n",
    "        nodes['neg'].append(neg)\n",
    "    if pos not in nodes['pos']:\n",
    "        nodes['pos'].append(pos)\n",
    "        \n",
    "    elementDict = {\n",
    "        \"name\": name,\n",
    "        \"neg\": neg,\n",
    "        \"pos\": pos,\n",
    "        \"val\": val\n",
    "    }\n",
    "    \n",
    "    if element[0] == 'V':\n",
    "        Vsources.append(elementDict)\n",
    "    elif element[0] == \"I\":\n",
    "        Isources.append(elementDict)\n",
    "    elif element[0] == \"R\":\n",
    "        Rs.append(elementDict)\n",
    "\n",
    "# number of nodes\n",
    "n = np.max(nodes['pos'])\n",
    "\n",
    "# number of voltage sources\n",
    "m = len(Vsources)\n",
    "\n",
    "print(\"Number of nodes, n = \", n)\n",
    "print(\"Number of V sources, m = \", m)\n",
    "print(\"V sources: \",Vsources)\n",
    "print(\"I sources: \",Isources)\n",
    "print(\"Resistors: \",Rs)\n",
    "print(\"Neg nodes:\", nodes['neg'])\n",
    "print(\"Pos nodes:\", nodes['pos'])"
   ]
  },
  {
   "attachments": {
    "Matrix.png": {
     "image/png": "[encoded data removed]"
    }
   },
   "cell_type": "markdown",
   "id": "caa9be51",
   "metadata": {},
   "source": [
    "# Implementing the algorithms\n",
    "\n",
    "To be able to find the currents through each node and VS(voltage source) I first needed to calculate the contents of both the A matrix and the Z matrix. The A matrix consists of multiple different matrices that each have a specific purpose to find what I am looking for. The matrices stored in A are: G ,B, C, amd D. These matrices each have values that tell the full story as to how to find the currents. All matrices will be made into functions except for the C. ![Matrix.png](attachment:Matrix.png)\n",
    "\n",
    "\n",
    "## The G matrix\n",
    "\n",
    "The G matrix is a nxn dimensional matrix and is determined by the interconnects between nodes and passive elements. The values of the G matrix will be either 0 or a combonation of conductances for each node. The conductance of a node is $\\frac{1}{R_n}$. Depending on the placement of the node there is the possibility that a node is connected to more than one passive elements. In that case all you would have to do is add the values of the resistors together to find the conductance for a node connecting to multiple passive elements. G is seperated into two algorithms to solve: The diagnal and everything else. The diagnal in the matrix represents the sum of conducance of a particular node. Since each row in G represents a node; row[0],col[0] would be the sum of conductances of node 1. for the off diagnal elemtns in G they will hold the negative conductance of the node. For the circuit that I am working with G would look like this:\n"
   ]
  },
  {
   "attachments": {
    "G%20matrix%20results.png": {
     "image/png": "[encoded data removed]"
    }
   },
   "cell_type": "markdown",
   "id": "90d2f7b8",
   "metadata": {},
   "source": [
    "![G%20matrix%20results.png](attachment:G%20matrix%20results.png)\n",
    "\n",
    "Note that all of the values of G will be in ohms.\n",
    "\n",
    "### G Results\n",
    "\n",
    "after implementing the two constraints for the G matrix I found that my values matched what the non numerical resitls were supposed to be. "
   ]
  },
  {
   "cell_type": "code",
   "execution_count": 3,
   "id": "4ff95a94",
   "metadata": {},
   "outputs": [],
   "source": [
    "# This will make the G matrix.\n",
    "# G matrix is nxn matrix.\n",
    "def G(Rlist, nodelist):\n",
    "    n = len(nodelist['pos']) # list of all positive nodes\n",
    "    g = np.zeros((n,n)) # place holders for g matrix\n",
    "\n",
    "    for Grow in range(n):\n",
    "        for Gcol in range(n):\n",
    "            if Grow == Gcol: #diagonal\n",
    "                conductance = 0\n",
    "                for R in Rs:\n",
    "                    if R['neg'] == Grow+1:\n",
    "                        conductance = conductance + 1/R['val']\n",
    "                    elif R['pos'] == Grow+1:\n",
    "                        conductance = conductance + 1/R['val']\n",
    "                g[Grow,Grow] = conductance\n",
    "                \n",
    "            else: # if it is not a diagonal\n",
    "                conductance = 0\n",
    "                for R in Rs:\n",
    "                    if R['neg'] == Grow+1 and R['pos'] == Gcol + 1:\n",
    "                        conductance = conductance + -1/R['val']\n",
    "                    elif R['pos'] == Grow+1 and R['neg'] == Gcol + 1:\n",
    "                        conductance = conductance + -1/R['val']                        \n",
    "                g[Grow,Gcol] = conductance\n",
    "                \n",
    "        \n",
    "    return g"
   ]
  },
  {
   "cell_type": "code",
   "execution_count": 5,
   "id": "84c58b04",
   "metadata": {},
   "outputs": [
    {
     "name": "stdout",
     "output_type": "stream",
     "text": [
      "[[ 0.5    0.     0.   ]\n",
      " [ 0.     0.375 -0.25 ]\n",
      " [ 0.    -0.25   0.25 ]]\n"
     ]
    }
   ],
   "source": [
    "# does a check to see if G matrix holds the correct values\n",
    "g=G(Rs,nodes)\n",
    "print(g)"
   ]
  },
  {
   "attachments": {
    "B%20matrix%20results.png": {
     "image/png": "[encoded data removed]"
    }
   },
   "cell_type": "markdown",
   "id": "d54c8be8",
   "metadata": {},
   "source": [
    "## The B matrix\n",
    "\n",
    "The B matrix is a nxm dimensional matrix(n being the number of nodes and m being the number of VS's). Unlike its predecessor the G matrix, B and all of the other matrices will only hold the values 0,1, or -1. The purpose of the B matrix is to identify what node is connected to the positive or negative side of the VS's. The rows in B represent the node while the columns of B represent the voltage source. So row[0] col[0] would be node 1 Voltage Source 1. B is a very simple matrix to solve since its values are determined by what side of the voltage source is a node connected to. If the node is connected to the positive side of the voltage source then it will be assigned the value 1. If its the negative side then it will be -1. The last possible option is if it a node is not touching a voltage source, then the value will be 0.![B%20matrix%20results.png](attachment:B%20matrix%20results.png)"
   ]
  },
  {
   "cell_type": "code",
   "execution_count": 4,
   "id": "539be94b",
   "metadata": {},
   "outputs": [],
   "source": [
    "# This will make the B matrix\n",
    "# B matrix is nxm\n",
    "\n",
    "def B(Vlist, nodelist):\n",
    "    n = len(nodelist['pos'])\n",
    "    m = len(Vlist)\n",
    "    b = np.zeros((n,m))\n",
    "    \n",
    "    for i in range(m): #loop through voltage sources\n",
    "        for k in range(n): #loop through nodes\n",
    "            Vs = i + 1\n",
    "            node = k + 1\n",
    "            if Vlist[i]['pos']==node:\n",
    "                b[k,i] = 1\n",
    "            elif Vlist[i]['neg']==node:\n",
    "                b[k,i] = -1\n",
    "    \n",
    "    return b\n"
   ]
  },
  {
   "cell_type": "code",
   "execution_count": 6,
   "id": "e5eac937",
   "metadata": {},
   "outputs": [
    {
     "name": "stdout",
     "output_type": "stream",
     "text": [
      "[[-1.  0.]\n",
      " [ 1.  0.]\n",
      " [ 0.  1.]]\n"
     ]
    }
   ],
   "source": [
    "b = B(Vsources,nodes)\n",
    "print(b)"
   ]
  },
  {
   "attachments": {
    "C%20matrix%20results.png": {
     "image/png": "[encoded data removed]"
    }
   },
   "cell_type": "markdown",
   "id": "f9044b92",
   "metadata": {},
   "source": [
    "## The C matrix\n",
    "\n",
    "Just like the B matrix the C matrix will hold the values 1,-1, and 0. This matrix is the transpose of the B matrix so its values will be the same as the B matrix with the only difference being that the dimensions of the matrix will be flipped. ![C%20matrix%20results.png](attachment:C%20matrix%20results.png)"
   ]
  },
  {
   "cell_type": "code",
   "execution_count": 7,
   "id": "ce078704",
   "metadata": {},
   "outputs": [
    {
     "name": "stdout",
     "output_type": "stream",
     "text": [
      "[[-1.  1.  0.]\n",
      " [ 0.  0.  1.]]\n"
     ]
    }
   ],
   "source": [
    "c = np.transpose(b)\n",
    "print(c)"
   ]
  },
  {
   "attachments": {
    "D%20matrix%20Results.png": {
     "image/png": "[encoded data removed]"
    }
   },
   "cell_type": "markdown",
   "id": "5b711c07",
   "metadata": {},
   "source": [
    "## The D matrix \n",
    "The purpose of the D matrix is to hold the values of the currents in the system. The dimensions are m,m. where m is the number of voltage sources in the system. Depending on what the circuit has the values of the D matrix will change. If there is only independent sources then the D matrix will hold all 0's for each element in the array. If there are depeendent variable then the answer will be non-zero. In this case since I am only going to be working with independent voltage sources the D matrix will always be 0. ![D%20matrix%20Results.png](attachment:D%20matrix%20Results.png)"
   ]
  },
  {
   "cell_type": "code",
   "execution_count": 8,
   "id": "0c9ca798",
   "metadata": {},
   "outputs": [],
   "source": [
    "# This will make the D matrix\n",
    "# d matrix is mxm\n",
    "\n",
    "def D(vlist):\n",
    "    m = len(vlist)\n",
    "    d = np.zeros((m,m))\n",
    "    \n",
    "    return(d)\n",
    "    "
   ]
  },
  {
   "cell_type": "code",
   "execution_count": 9,
   "id": "4aa30f62",
   "metadata": {},
   "outputs": [
    {
     "name": "stdout",
     "output_type": "stream",
     "text": [
      "[[0. 0.]\n",
      " [0. 0.]]\n"
     ]
    }
   ],
   "source": [
    "d = D(Vsources)\n",
    "print(d)"
   ]
  },
  {
   "attachments": {
    "Z%20all%20together.png": {
     "image/png": "[encoded data removed]"
    }
   },
   "cell_type": "markdown",
   "id": "097fdb4d",
   "metadata": {},
   "source": [
    "## The Z matrix\n",
    "\n",
    "The Z matrix is a n+m, 1 dimensional matrix where n is the number of nodes and m is the number of voltage sources. The Z matrix holds all known voltage values for the system. This matrix is broken up into two different matrixces called i and e. I which is a n,1 dimentsinal matrix that holds the sum of the current sources for each node. If there are no current sources connected to the node then the value of the node in i will be 0. E is a m,1 dimensional matrix that holds the values of the independent voltage sources. The structure of the Z matrix starts with i and then with e, which means that the current source values of each node will be at the top of the Z matrix while the independent voltage source values will be stored in the bottom of the Z matrix. ![Z%20all%20together.png](attachment:Z%20all%20together.png)"
   ]
  },
  {
   "cell_type": "code",
   "execution_count": 10,
   "id": "a727b14c",
   "metadata": {},
   "outputs": [],
   "source": [
    "# Creation of e and i matricies\n",
    "\n",
    "def Z(vlist,nodelist):\n",
    "    n = len(nodelist['pos'])\n",
    "    m = len(vlist)\n",
    "    \n",
    "    e = np.zeros((m, 1))\n",
    "    i = np.zeros((n,1))\n",
    "    z = np.zeros((n+m,1))\n",
    "    \n",
    "    for Erow in range(m): # loops through the vsource values\n",
    "            e[Erow] = Vsources[Erow]['val']\n",
    "            \n",
    "    for Zrow in range(m+n):\n",
    "        if Zrow< n:\n",
    "            z[Zrow] = i[Zrow] # assigns i values\n",
    "        elif Zrow >= n: # assigns e values\n",
    "            z[Zrow] = e[Zrow - n]\n",
    "            \n",
    "    return z"
   ]
  },
  {
   "cell_type": "code",
   "execution_count": 11,
   "id": "da276a5d",
   "metadata": {},
   "outputs": [
    {
     "name": "stdout",
     "output_type": "stream",
     "text": [
      "[[ 0.]\n",
      " [ 0.]\n",
      " [ 0.]\n",
      " [32.]\n",
      " [20.]]\n"
     ]
    }
   ],
   "source": [
    "z = Z(Vsources,nodes)\n",
    "print(z)"
   ]
  },
  {
   "attachments": {
    "Screen%20Shot%202022-05-06%20at%205.40.59%20PM.png": {
     "image/png": "[encoded data removed]"
    }
   },
   "cell_type": "markdown",
   "id": "089d5fd2",
   "metadata": {},
   "source": [
    "## Creation of the A matrix\n",
    "\n",
    "The A matrix is an n+m, n+m dimensional matrix that holds the 4 matrices G,B,C, and D. A is the place holder that holds all the previous information of the previuos matrices. N represents the number of nodes in the circuit while m represents the number of Voltage sources in the circuit. The output of A should have the results of each matrix above. ![Screen%20Shot%202022-05-06%20at%205.40.59%20PM.png](attachment:Screen%20Shot%202022-05-06%20at%205.40.59%20PM.png)"
   ]
  },
  {
   "cell_type": "code",
   "execution_count": 12,
   "id": "3fcdb035",
   "metadata": {},
   "outputs": [],
   "source": [
    "def A(node,Vs):\n",
    "    n = len(node['pos'])\n",
    "    m = len(Vs)\n",
    "    b = B(Vsources,nodes)\n",
    "    g = G(Rs,nodes)\n",
    "    c = np.transpose(b)\n",
    "    d = D(Vsources)\n",
    "    a = np.zeros((n + m,n + m)) \n",
    "    \n",
    "    a[:n,:n] = g[:,:]\n",
    "    a[:n,n:] = b[:,:]\n",
    "    a[n:,:n] = c[:,:]\n",
    "    a[n:,n:] = d[:,:]\n",
    "    return a\n",
    "\n"
   ]
  },
  {
   "cell_type": "code",
   "execution_count": 13,
   "id": "cc4d89e2",
   "metadata": {},
   "outputs": [
    {
     "name": "stdout",
     "output_type": "stream",
     "text": [
      "[[ 0.5    0.     0.    -1.     0.   ]\n",
      " [ 0.     0.375 -0.25   1.     0.   ]\n",
      " [ 0.    -0.25   0.25   0.     1.   ]\n",
      " [-1.     1.     0.     0.     0.   ]\n",
      " [ 0.     0.     1.     0.     0.   ]]\n"
     ]
    }
   ],
   "source": [
    "a = A(nodes,Vsources)\n",
    "print(a)"
   ]
  },
  {
   "attachments": {
    "What%20the%20final%20results%20look%20like.png": {
     "image/png": "[encoded data removed]"
    }
   },
   "cell_type": "markdown",
   "id": "20355e3a",
   "metadata": {},
   "source": [
    "## Solving for X\n",
    "\n",
    "The way that the source I used to understand MNA used the equation $A *x = z$ Which would look like this:![What%20the%20final%20results%20look%20like.png](attachment:What%20the%20final%20results%20look%20like.png)\n",
    "\n",
    "\n",
    "The issue with this equation is that I am looking for the X matrix and the equation is solving for Z. So to find the results for X I would have to do the inverse of A times Z to get the results of my unknown currents X. $ A^{-1} * z = x$ \n",
    "\n",
    "Initially when looking at the equation that my source showed me only showed what Z would be and it did not tell me that A had to be the inverse of A to do the equation necessary for finding X. Another issue that arised was finding out if the values I got for X were actually correct.\n",
    "\n",
    "## Validating My Work\n",
    "\n",
    "To validate if my code worked I realised that by doing the original equation $A *x = z$ I could compare the results of the equation with the already calculated Z matrix. After compiling my code the results that I got showed that the values of the voltage sources were correct, however the values for the i matrix did not seem to match. The results that my code gave me put the values in exponential notation so after converting them back into regular numerical notation I found that the outlier in my code was so small that it could be assumed that it is 0. Now that my results are validated I am confidenent to say that the code works properly."
   ]
  },
  {
   "cell_type": "code",
   "execution_count": 14,
   "id": "1d4e3933",
   "metadata": {},
   "outputs": [
    {
     "name": "stdout",
     "output_type": "stream",
     "text": [
      "[[-8.]\n",
      " [24.]\n",
      " [20.]\n",
      " [-4.]\n",
      " [ 1.]]\n"
     ]
    }
   ],
   "source": [
    "a = A(nodes,Vsources)\n",
    "z = Z(Vsources,nodes)\n",
    "a_inv = np.linalg.inv(a)\n",
    "\n",
    "#print(a)\n",
    "#print(z)\n",
    "#print(a_tran)\n",
    "x = np.dot(a_inv,z)\n",
    "print(x)\n",
    "\n",
    "\n"
   ]
  },
  {
   "cell_type": "code",
   "execution_count": 15,
   "id": "4ed34946",
   "metadata": {},
   "outputs": [
    {
     "name": "stdout",
     "output_type": "stream",
     "text": [
      "[[-8.8817842e-16]\n",
      " [ 0.0000000e+00]\n",
      " [ 0.0000000e+00]\n",
      " [ 3.2000000e+01]\n",
      " [ 2.0000000e+01]]\n"
     ]
    }
   ],
   "source": [
    "check = np.dot(a,x)\n",
    "print(check)"
   ]
  },
  {
   "cell_type": "markdown",
   "id": "dd4f15c5",
   "metadata": {},
   "source": [
    "## How to improve this project\n",
    "\n",
    "Some ways to imporve/investigate this porject is to see what the voltages will be with dependant and current sources. Also another idea to investigate is what the voltages will be once time is involved. \n",
    "\n",
    "# Sources\n",
    "\n",
    "The information used in this project was from both my Professor Dr. Titus and the website: \n",
    "[click this link](https://lpsa.swarthmore.edu/Systems/Electrical/mna/MNA3.html#The_A_matrix)"
   ]
  }
 ],
 "metadata": {
  "kernelspec": {
   "display_name": "Python 3 (ipykernel)",
   "language": "python",
   "name": "python3"
  },
  "language_info": {
   "codemirror_mode": {
    "name": "ipython",
    "version": 3
   },
   "file_extension": ".py",
   "mimetype": "text/x-python",
   "name": "python",
   "nbconvert_exporter": "python",
   "pygments_lexer": "ipython3",
   "version": "3.9.7"
  }
 },
 "nbformat": 4,
 "nbformat_minor": 5
}
